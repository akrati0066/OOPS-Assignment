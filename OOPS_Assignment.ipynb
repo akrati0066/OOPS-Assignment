{
  "nbformat": 4,
  "nbformat_minor": 0,
  "metadata": {
    "colab": {
      "provenance": []
    },
    "kernelspec": {
      "name": "python3",
      "display_name": "Python 3"
    },
    "language_info": {
      "name": "python"
    }
  },
  "cells": [
    {
      "cell_type": "code",
      "execution_count": null,
      "metadata": {
        "id": "PDvkQkFS6tbQ"
      },
      "outputs": [],
      "source": [
        "#THEORY QUESTIONS:"
      ]
    },
    {
      "cell_type": "code",
      "source": [
        "#Q1. What is Object-Oriented Programming (OOP)?\n",
        "#Object-Oriented Programming (OOP) is a programming approach based on the concept of objects, which are instances of classes. It helps organize code by combining data (attributes) and functions (methods).\n",
        "\n",
        "#Key Features:\n",
        "#Class: Blueprint for creating objects.\n",
        "#Object: Real-world instance of a class.\n",
        "#Encapsulation: Hides internal details, protects data.\n",
        "#Inheritance: Allows reuse of code from a parent class.\n",
        "#Polymorphism: One function, different behaviors.\n",
        "#Abstraction: Shows only essential features.\n",
        "\n",
        "#OOP makes code modular, reusable, and easier to maintain."
      ],
      "metadata": {
        "id": "Dg5DLJLr60_5"
      },
      "execution_count": null,
      "outputs": []
    },
    {
      "cell_type": "code",
      "source": [
        "#Q2.What is a class in OOP?\n",
        "#A class in Object-Oriented Programming (OOP) is a blueprint or template used to create objects. It defines the attributes (data) and methods (functions) that the objects will have."
      ],
      "metadata": {
        "id": "sblWGtc77CCB"
      },
      "execution_count": null,
      "outputs": []
    },
    {
      "cell_type": "code",
      "source": [
        "#Q3.What is an object in OOP?\n",
        "#An object in Object-Oriented Programming (OOP) is an instance of a class. It represents a real-world entity with attributes (data) and methods (functions) defined by its class."
      ],
      "metadata": {
        "id": "5HBJpX2V7OTm"
      },
      "execution_count": null,
      "outputs": []
    },
    {
      "cell_type": "code",
      "source": [
        "#Q4.What is the difference between abstraction and encapsulation?\n",
        "#Abstraction means hiding unnecessary details and showing only the essential features to the user.\n",
        "#Example: When you drive a car, you only use the steering and pedals, not the internal engine working.\n",
        "#Encapsulation means wrapping data and code together into a single unit and restricting direct access to some components.\n",
        "#Example: Making class variables private and accessing them using getter and setter methods.\n",
        "#Abstraction focuses on what to do, while encapsulation focuses on how to do it.\n",
        "#Abstraction is implemented using abstract classes or interfaces, whereas encapsulation is implemented using access modifiers (like private, public, etc.)."
      ],
      "metadata": {
        "id": "gIUzxD3M7dyi"
      },
      "execution_count": null,
      "outputs": []
    },
    {
      "cell_type": "code",
      "source": [
        "#Q5.What are dunder methods in Python?\n",
        "#Dunder stands for \"double underscore\" — these are special methods in Python that begin and end with double underscores, like __init__, __str__, etc.\n",
        "#They are used to define how objects of a class behave with built-in functions and operators"
      ],
      "metadata": {
        "id": "LLNn3FUz77bD"
      },
      "execution_count": 5,
      "outputs": []
    },
    {
      "cell_type": "code",
      "source": [
        "#Q6.Explain the concept of inheritance in OOP?\n",
        "#Inheritance is a core concept in OOP that allows a class (child class) to inherit properties and methods from another class (parent class). It helps in code reusability and creating a hierarchical relationship between classes."
      ],
      "metadata": {
        "id": "3r8Y0ipb9Wsh"
      },
      "execution_count": 6,
      "outputs": []
    },
    {
      "cell_type": "code",
      "source": [
        "#Q7.What is polymorphism in OOP?\n",
        "#Polymorphism means \"many forms\". In OOP, it allows the same method or function name to behave differently based on the object that is calling it."
      ],
      "metadata": {
        "id": "M9gQoBMG9fe5"
      },
      "execution_count": 10,
      "outputs": []
    },
    {
      "cell_type": "code",
      "source": [
        "#Q8.How is encapsulation achieved in Python?\n",
        "#Encapsulation in Python is achieved by:\n",
        "#Making variables private using double underscores (`__variable`).\n",
        "#Using getter and setter methods to access and modify those variables.\n",
        "#This helps protect data and control access to it."
      ],
      "metadata": {
        "id": "M0uxge-79pB2"
      },
      "execution_count": 8,
      "outputs": []
    },
    {
      "cell_type": "code",
      "source": [
        "#Q9.What is a constructor in Python?\n",
        "#A constructor is a special method in Python used to initialize objects when a class is created.\n",
        "#In Python, the constructor method is named __init__()."
      ],
      "metadata": {
        "id": "D-5AFyxa-N2C"
      },
      "execution_count": 9,
      "outputs": []
    },
    {
      "cell_type": "code",
      "source": [
        "#Q10.What are class and static methods in Python?\n",
        "#Class Method → uses @classmethod, works with the class.\n",
        "#Static Method → uses @staticmethod, works independently of class or instance."
      ],
      "metadata": {
        "id": "H0PWK5aK-ilw"
      },
      "execution_count": 10,
      "outputs": []
    },
    {
      "cell_type": "code",
      "source": [
        "#Q11.What is method overloading in Python?\n",
        "#Method overloading means defining multiple methods with the same name but different parameters.\n",
        "#Python does not support true method overloading like some other languages (e.g., Java).\n",
        "#Instead, you can use default arguments or *args/kwargs to handle different numbers of arguments in a single method."
      ],
      "metadata": {
        "id": "O0RGhL3_-wqj"
      },
      "execution_count": 11,
      "outputs": []
    },
    {
      "cell_type": "code",
      "source": [
        "#Q12.What is method overriding in OOP?\n",
        "#Method overriding occurs when a child class defines a method with the same name and parameters as a method in its parent class, to provide a different (customized) implementation.\n",
        "\n"
      ],
      "metadata": {
        "id": "2hKsaVKj-9sE"
      },
      "execution_count": 12,
      "outputs": []
    },
    {
      "cell_type": "code",
      "source": [
        "#Q13.What is a property decorator in Python?\n",
        "#The property decorator lets you define a method that behaves like an attribute, often used to safely access private data."
      ],
      "metadata": {
        "id": "ssRYTZkv_Kld"
      },
      "execution_count": 13,
      "outputs": []
    },
    {
      "cell_type": "code",
      "source": [
        "#Q14.Why is polymorphism important in OOP?\n",
        "#Code Reusability:\n",
        "#Same interface (method name) can be used for different types, reducing redundancy.\n",
        "\n",
        "#Flexibility:\n",
        "#Allows functions or methods to work with objects of different classes seamlessly.\n",
        "\n",
        "#Extensibility:\n",
        "#Makes it easier to add new classes without changing existing code.\n",
        "\n",
        "#Simplified Code:\n",
        "#You can write more general and cleaner code using common method names.\n",
        "\n",
        "#Supports Dynamic Behavior:\n",
        "#At runtime, the correct method is chosen based on the object’s class (method overriding)"
      ],
      "metadata": {
        "id": "fGddAzeW_dJ8"
      },
      "execution_count": 14,
      "outputs": []
    },
    {
      "cell_type": "code",
      "source": [
        "#Q15.What is an abstract class in Python?\n",
        "#An abstract class in Python is a class that cannot be instantiated and is meant to be inherited by other classes. It can contain abstract methods, which are methods declared but not implemented."
      ],
      "metadata": {
        "id": "jznmqxJX_ym3"
      },
      "execution_count": 15,
      "outputs": []
    },
    {
      "cell_type": "code",
      "source": [
        "#Q16.What are the advantages of OOP?\n",
        "#OOP offers organized, reusable, secure, and scalable code, which makes software development faster and easier to maintain."
      ],
      "metadata": {
        "id": "vjyqvSzJAHEb"
      },
      "execution_count": 16,
      "outputs": []
    },
    {
      "cell_type": "code",
      "source": [
        "#Q17.What is the difference between a class variable and an instance variable?\n",
        "#Class Variable is shared by all instances of a class.\n",
        "#Instance Variable is unique to each object.\n",
        "#Class Variable is defined outside methods, inside the class.\n",
        "#Instance Variable is defined inside the __init__() method.\n",
        "#Changing a class variable affects all objects.\n",
        "#Changing an instance variable affects only that object."
      ],
      "metadata": {
        "id": "qr1dCf6OARcw"
      },
      "execution_count": 17,
      "outputs": []
    },
    {
      "cell_type": "code",
      "source": [
        "#Q18.What is multiple inheritance in Python?\n",
        "#Multiple inheritance is a feature in Python where a class can inherit from more than one parent class."
      ],
      "metadata": {
        "id": "n-Xv4_xHAkM1"
      },
      "execution_count": 18,
      "outputs": []
    },
    {
      "cell_type": "code",
      "source": [
        "#Q19. Explain the purpose of ‘’__str__’ and ‘__repr__’ ‘ methods in Python?\n",
        "#__str__() → For users → readable display\n",
        "#__repr__() → For developers → detailed or official representation\n"
      ],
      "metadata": {
        "id": "vWZPSfcpAzNW"
      },
      "execution_count": 19,
      "outputs": []
    },
    {
      "cell_type": "code",
      "source": [
        "#Q20.What is the significance of the ‘super()’ function in Python?\n",
        "#The super() function is used to call methods from a parent (super) class inside a child class.\n",
        "# Purpose:\n",
        "#Access parent class methods/constructors without directly naming the parent.\n",
        "#Useful in inheritance and especially in multiple inheritance."
      ],
      "metadata": {
        "id": "yH6s_UrYBGFM"
      },
      "execution_count": 14,
      "outputs": []
    },
    {
      "cell_type": "code",
      "source": [
        "#Q21.What is the significance of the __del__ method in Python?\n",
        "#__del__() → called when an object is about to be destroyed."
      ],
      "metadata": {
        "id": "Nzu3ZW5iyogr"
      },
      "execution_count": 2,
      "outputs": []
    },
    {
      "cell_type": "code",
      "source": [
        "#Q22.What is the difference between @staticmethod and @classmethod in Python?\n",
        "#@classmethod → uses @classmethod, works with the class.\n",
        "#@staticmethod → uses @staticmethod, works independently of class or instance.\n"
      ],
      "metadata": {
        "id": "zU4rntEHywge"
      },
      "execution_count": 4,
      "outputs": []
    },
    {
      "cell_type": "code",
      "source": [
        "#Q23.How does polymorphism work in Python with inheritance?\n",
        "#Polymorphism with inheritance lets a single function (like make_sound()) work with objects of different classes, and the correct overridden method is called based on the object type at runtime."
      ],
      "metadata": {
        "id": "-Q2nXncszlGs"
      },
      "execution_count": 5,
      "outputs": []
    },
    {
      "cell_type": "code",
      "source": [
        "#Q24.What is method chaining in Python OOP?\n",
        "#Method chaining allows calling multiple methods in one line by returning self, making the code cleaner and more readable."
      ],
      "metadata": {
        "id": "1PKUz14p0Fw5"
      },
      "execution_count": 6,
      "outputs": []
    },
    {
      "cell_type": "code",
      "source": [
        "#Q25.What is the purpose of the __call__ method in Python?\n",
        "#__call__() → called when an object is called like a function."
      ],
      "metadata": {
        "id": "cjyrb0kp0VDA"
      },
      "execution_count": 8,
      "outputs": []
    },
    {
      "cell_type": "code",
      "source": [
        "#PRACTICAL QUESTIONS:"
      ],
      "metadata": {
        "id": "BywjWXG005o5"
      },
      "execution_count": 9,
      "outputs": []
    },
    {
      "cell_type": "code",
      "source": [
        "#1. Create a parent class Animal with a method speak() that prints a generic message. Create a child class Dog that overrides the speak() method to print \"Bark!\".\n",
        "class Animal:\n",
        "    def speak(self):\n",
        "        print(\"Generic animal sound\")\n",
        "\n",
        "class Dog(Animal):\n",
        "    def speak(self):\n",
        "        print(\"Bark!\")"
      ],
      "metadata": {
        "id": "D1xCgA4I1H1N"
      },
      "execution_count": 24,
      "outputs": []
    },
    {
      "cell_type": "code",
      "source": [
        "a = Animal()\n",
        "a.speak()"
      ],
      "metadata": {
        "colab": {
          "base_uri": "https://localhost:8080/"
        },
        "id": "90H4c8R0BXKb",
        "outputId": "ab4da23b-3700-4638-fa2e-06fd14996560"
      },
      "execution_count": 25,
      "outputs": [
        {
          "output_type": "stream",
          "name": "stdout",
          "text": [
            "Generic animal sound\n"
          ]
        }
      ]
    },
    {
      "cell_type": "code",
      "source": [
        "#2.Write a program to create an abstract class Shape with a method area(). Derive classes Circle and Rectangle from it and implement the area() method in both.\n",
        "from abc import ABC, abstractmethod\n",
        "import math\n",
        "\n",
        "class Shape(ABC):\n",
        "    @abstractmethod\n",
        "    def area(self):\n",
        "        pass\n",
        "\n",
        "# Derived class: Circle\n",
        "class Circle(Shape):\n",
        "    def __init__(self, radius):\n",
        "        self.radius = radius\n",
        "\n",
        "    def area(self):\n",
        "        return math.pi * self.radius ** 2\n",
        "\n",
        "# Derived class: Rectangle\n",
        "class Rectangle(Shape):\n",
        "    def __init__(self, length, width):\n",
        "        self.length = length\n",
        "        self.width = width\n",
        "\n",
        "    def area(self):\n",
        "        return self.length * self.width"
      ],
      "metadata": {
        "id": "jp5y1vbY4uoU"
      },
      "execution_count": 23,
      "outputs": []
    },
    {
      "cell_type": "code",
      "source": [
        "#3. Implement a multi-level inheritance scenario where a class Vehicle has an attribute type. Derive a class Car and further derive a class ElectricCar that adds a battery attribute.\n",
        "class Vehicle:\n",
        "    def __init__(self, vehicle_type):\n",
        "        self.type = vehicle_type\n",
        "\n",
        "class Car(Vehicle):\n",
        "    pass\n",
        "\n",
        "class ElectricCar(Car):\n",
        "    def __init__(self, battery_capacity):\n",
        "        super().__init__(\"Electric\")"
      ],
      "metadata": {
        "id": "mIa3smse45an"
      },
      "execution_count": 15,
      "outputs": []
    },
    {
      "cell_type": "code",
      "source": [
        "#4. Demonstrate polymorphism by creating a base class Bird with a method fly(). Create two derived classes Sparrow and Penguin that override the fly() method.\n",
        "class Bird:\n",
        "    def fly(self):\n",
        "        print(\"Generic bird flying\")\n",
        "\n",
        "class Sparrow(Bird):\n",
        "    def fly(self):\n",
        "        print(\"Sparrow flying\")\n",
        "\n",
        "class Penguin(Bird):\n",
        "    def fly(self):\n",
        "        print(\"Penguin cannot fly\")"
      ],
      "metadata": {
        "id": "-55o0W2d6QbF"
      },
      "execution_count": 16,
      "outputs": []
    },
    {
      "cell_type": "code",
      "source": [
        "#5.Write a program to demonstrate encapsulation by creating a class BankAccount with private attributes balance and methods to deposit, withdraw, and check balance.\n",
        "class BankAccount:\n",
        "    def __init__(self, initial_balance=0):\n",
        "        self.__balance = initial_balance\n",
        "\n",
        "    def deposit(self, amount):\n",
        "        if amount > 0:\n",
        "            self.__balance += amount\n",
        "            print(f\"₹{amount} deposited.\")\n",
        "        else:\n",
        "            print(\"Invalid deposit amount.\")\n",
        "\n",
        "    def withdraw(self, amount):\n",
        "        if 0 < amount <= self.__balance:\n",
        "            self.__balance -= amount\n",
        "            print(f\"₹{amount} withdrawn.\")\n",
        "        else:\n",
        "            print(\"Insufficient balance or invalid amount.\")\n",
        "\n",
        "    def check_balance(self):\n",
        "        print(f\"Current balance: ₹{self.__balance}\")\n"
      ],
      "metadata": {
        "id": "o_oyk2dj6xxk"
      },
      "execution_count": 45,
      "outputs": []
    },
    {
      "cell_type": "code",
      "source": [
        "#6.Demonstrate runtime polymorphism using a method play() in a base class Instrument. Derive classes Guitar and Piano that implement their own version of play().\n",
        "class Instrument:\n",
        "    def play(self):\n",
        "        print(\"Generic instrument playing\")\n",
        "\n",
        "class Guitar(Instrument):\n",
        "    def play(self):\n",
        "        print(\"Guitar playing\")\n",
        "\n",
        "class Piano(Instrument):\n",
        "    def play(self):\n",
        "        print(\"Piano playing\")"
      ],
      "metadata": {
        "id": "yIzfcpf_69Ct"
      },
      "execution_count": 46,
      "outputs": []
    },
    {
      "cell_type": "code",
      "source": [
        "#7.Create a class MathOperations with a class method add_numbers() to add two numbers and a static method subtract_numbers() to subtract two numbers\n",
        "class MathOperations:\n",
        "    @classmethod\n",
        "    def add_numbers(cls, a, b):\n",
        "        return a + b\n",
        "\n",
        "    @staticmethod\n",
        "    def subtract_numbers(a, b):\n",
        "        return a - b"
      ],
      "metadata": {
        "id": "OQa-et7s7Utb"
      },
      "execution_count": 26,
      "outputs": []
    },
    {
      "cell_type": "code",
      "source": [
        "#8. Implement a class Person with a class method to count the total number of persons created.\n",
        "class Person:\n",
        "    count = 0\n",
        "\n",
        "    @classmethod\n",
        "    def count_persons(cls):\n",
        "        return cls.count\n",
        "\n",
        "    def __init__(self):\n",
        "        Person.count += 1"
      ],
      "metadata": {
        "id": "YXm8qi3I7j6c"
      },
      "execution_count": 21,
      "outputs": []
    },
    {
      "cell_type": "code",
      "source": [
        "#9.Write a class Fraction with attributes numerator and denominator. Override the str method to display the fraction as \"numerator/denominator\"\n",
        "class Fraction:\n",
        "    def __init__(self, numerator, denominator):\n",
        "        self.numerator = numerator\n",
        "        self.denominator = denominator\n",
        "\n",
        "    def __str__(self):\n",
        "        return f\"{self.numerator}/{self.denominator}\""
      ],
      "metadata": {
        "id": "q52aiiVA7rG0"
      },
      "execution_count": 27,
      "outputs": []
    },
    {
      "cell_type": "code",
      "source": [
        "f = Fraction(3,5)\n",
        "print(f)"
      ],
      "metadata": {
        "colab": {
          "base_uri": "https://localhost:8080/"
        },
        "id": "2Z9GaZBUCodk",
        "outputId": "1e3e07f8-6f69-40bb-aa37-cb14fb7ab7ce"
      },
      "execution_count": 29,
      "outputs": [
        {
          "output_type": "stream",
          "name": "stdout",
          "text": [
            "3/5\n"
          ]
        }
      ]
    },
    {
      "cell_type": "code",
      "source": [
        "#10.Demonstrate operator overloading by creating a class Vector and overriding the add method to add two vectors.\n",
        "class Vector:\n",
        "    def __init__(self, x, y):\n",
        "        self.x = x\n",
        "        self.y = y\n",
        "\n",
        "    def __add__(self, other):\n",
        "        return Vector(self.x + other.x, self.y + other.y)"
      ],
      "metadata": {
        "id": "qQJ2HcqICrs2"
      },
      "execution_count": 30,
      "outputs": []
    },
    {
      "cell_type": "code",
      "source": [
        "#11.Create a class Person with attributes name and age. Add a method greet() that prints \"Hello, my name is {name} and I am {age} years old.\"\n",
        "class Person:\n",
        "    def __init__(self, name, age):\n",
        "        self.name = name\n",
        "        self.age = age\n",
        "\n",
        "    def greet(self):\n",
        "        print(f\"Hello, my name is {self.name} and I am {self.age} years old.\")\n"
      ],
      "metadata": {
        "id": "M5uhZrovC7tP"
      },
      "execution_count": 31,
      "outputs": []
    },
    {
      "cell_type": "code",
      "source": [
        "p = Person(\"Mahi\",18)\n",
        "p.greet()"
      ],
      "metadata": {
        "colab": {
          "base_uri": "https://localhost:8080/"
        },
        "id": "yI9Z6078DK9e",
        "outputId": "824068c3-12a3-40ed-c1a3-413b7c988101"
      },
      "execution_count": 33,
      "outputs": [
        {
          "output_type": "stream",
          "name": "stdout",
          "text": [
            "Hello, my name is Mahi and I am 18 years old.\n"
          ]
        }
      ]
    },
    {
      "cell_type": "code",
      "source": [
        "#12. Implement a class Student with attributes name and grades. Create a method average_grade() to compute the average of the grades.\n",
        "class Student:\n",
        "    def __init__(self, name, grades):\n",
        "        self.name = name\n",
        "        self.grades = grades\n",
        "\n",
        "    def average_grade(self):\n",
        "        return sum(self.grades) / len(self.grades)"
      ],
      "metadata": {
        "id": "vONFr0QkDPFS"
      },
      "execution_count": 34,
      "outputs": []
    },
    {
      "cell_type": "code",
      "source": [
        "#13.Create a class Rectangle with methods set_dimensions() to set the dimensions and area() to calculate the area.\n",
        "class Rectangle:\n",
        "    def __init__(self, length=0, width=0):\n",
        "        self.length = length\n",
        "        self.width = width\n",
        "\n",
        "    def set_dimensions(self, length, width):\n",
        "        if length <= 0 or width <= 0:\n",
        "            raise ValueError\n",
        "        self.length = length\n",
        "        self.width = width\n",
        "\n",
        "    def area(self):\n",
        "        return self.length * self.width"
      ],
      "metadata": {
        "id": "9og8yh41D4Bq"
      },
      "execution_count": 37,
      "outputs": []
    },
    {
      "cell_type": "code",
      "source": [
        "#14.Create a class Employee with a method calculate_salary() that computes the salary based on hours worked and hourly rate. Create a derived class Manager that adds a bonus to the salary.\n",
        "class Employee:\n",
        "    def __init__(self, hours_worked, hourly_rate):\n",
        "        self.hours_worked = hours_worked\n",
        "        self.hourly_rate = hourly_rate\n",
        "\n",
        "    def calculate_salary(self):\n",
        "        \"\"\"Base salary = hours × rate.\"\"\"\n",
        "        return self.hours_worked * self.hourly_rate\n",
        "\n",
        "\n",
        "class Manager(Employee):\n",
        "    def __init__(self, hours_worked, hourly_rate, bonus):\n",
        "        super().__init__(hours_worked, hourly_rate)\n",
        "        self.bonus = bonus\n",
        "\n",
        "    def calculate_salary(self):\n",
        "        \"\"\"Manager’s salary = base salary + bonus.\"\"\"\n",
        "        return super().calculate_salary() + self.bonus"
      ],
      "metadata": {
        "id": "Q2IYmTKbEbjV"
      },
      "execution_count": 39,
      "outputs": []
    },
    {
      "cell_type": "code",
      "source": [
        "#15. Create a class Product with attributes name, price, and quantity. Implement a method total_price() that calculates the total price of the product.\n",
        "class Product:\n",
        "    def __init__(self, name, price, quantity):\n",
        "        self.name = name\n",
        "        self.price = price\n",
        "        self.quantity = quantity\n",
        "\n",
        "    def total_price(self):\n",
        "        return self.price * self.quantity"
      ],
      "metadata": {
        "id": "VUnguQi8EiC1"
      },
      "execution_count": 40,
      "outputs": []
    },
    {
      "cell_type": "code",
      "source": [
        "#16. Create a class Animal with an abstract method sound(). Create two derived classes Cow and Sheep that implement the sound() method.\n",
        "from abc import ABC, abstractmethod\n",
        "\n",
        "# Abstract base class\n",
        "class Animal(ABC):\n",
        "    @abstractmethod\n",
        "    def sound(self):\n",
        "        \"\"\"Return the characteristic sound of the animal.\"\"\"\n",
        "        pass\n",
        "\n",
        "\n",
        "# Derived class: Cow\n",
        "class Cow(Animal):\n",
        "    def sound(self):\n",
        "        return \"Moo\"\n",
        "\n",
        "\n",
        "# Derived class: Sheep\n",
        "class Sheep(Animal):\n",
        "    def sound(self):\n",
        "        return \"Baa\"\n"
      ],
      "metadata": {
        "id": "Jtk7zJdCE4RK"
      },
      "execution_count": 41,
      "outputs": []
    },
    {
      "cell_type": "code",
      "source": [
        "#17.Create a class Book with attributes title, author, and year_published. Add a method get_book_info() that returns a formatted string with the book's details.\n",
        "class Book:\n",
        "    def __init__(self, title, author, year_published):\n",
        "        self.title = title\n",
        "        self.author = author\n",
        "        self.year_published = year_published\n",
        "\n",
        "    def get_book_info(self):\n",
        "        return f\"'{self.title}' by {self.author} (Published in {self.year_published})\""
      ],
      "metadata": {
        "id": "ICaZolIZFKBe"
      },
      "execution_count": 42,
      "outputs": []
    },
    {
      "cell_type": "code",
      "source": [
        "#18.Create a class House with attributes address and price. Create a derived class Mansion that adds an attribute number_of_rooms.\n",
        "class House:\n",
        "    def __init__(self, address, price):\n",
        "        self.address = address\n",
        "        self.price = price\n",
        "\n",
        "    def get_info(self):\n",
        "        return f\"Address: {self.address}, Price: ₹{self.price}\"\n",
        "\n",
        "\n",
        "class Mansion(House):\n",
        "    def __init__(self, address, price, number_of_rooms):\n",
        "        super().__init__(address, price)  # Initialize base class attributes\n",
        "        self.number_of_rooms = number_of_rooms\n",
        "\n",
        "    def get_info(self):\n",
        "        return f\"Address: {self.address}, Price: ₹{self.price}, Rooms: {self.number_of_rooms}\"\n"
      ],
      "metadata": {
        "id": "leQa6DL0FUTN"
      },
      "execution_count": 43,
      "outputs": []
    },
    {
      "cell_type": "code",
      "source": [],
      "metadata": {
        "id": "vVs4u-4IFix4"
      },
      "execution_count": null,
      "outputs": []
    }
  ]
}